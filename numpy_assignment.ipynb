{
 "cells": [
  {
   "cell_type": "code",
   "execution_count": null,
   "metadata": {},
   "outputs": [],
   "source": []
  },
  {
   "cell_type": "markdown",
   "metadata": {},
   "source": [
    "##  1.  Write a function so that the columns of the output matrix are powers of the input vector.The order of the powers is determined by the increasing boolean argument. Specifically, when increasing is False, the i-th output column is the input vector raised element-wise to the power of N - i - 1.HINT: Such a matrix with a geometric progression in each row is named for Alexandre-Theophile Vandermonde"
   ]
  },
  {
   "cell_type": "code",
   "execution_count": 1,
   "metadata": {},
   "outputs": [],
   "source": [
    "import numpy as np\n",
    "\n",
    "array= np.array([1,2,3,4,5])"
   ]
  },
  {
   "cell_type": "code",
   "execution_count": 2,
   "metadata": {},
   "outputs": [],
   "source": [
    "def atv_matrix(array,n,inc=False):\n",
    "    if inc is True :\n",
    "        matrix = np.matrix([x**i for x in array for i in range(n)])\n",
    "        matrix = matrix.reshape(len(array),n)\n",
    "    else :\n",
    "        matrix = np.matrix([x**(n-i-1) for x in array for i in range(n)])\n",
    "        matrix = matrix.reshape(len(array),n)\n",
    "    return matrix"
   ]
  },
  {
   "cell_type": "code",
   "execution_count": 3,
   "metadata": {},
   "outputs": [
    {
     "data": {
      "text/plain": [
       "matrix([[  1,   1,   1,   1,   1],\n",
       "        [ 16,   8,   4,   2,   1],\n",
       "        [ 81,  27,   9,   3,   1],\n",
       "        [256,  64,  16,   4,   1],\n",
       "        [625, 125,  25,   5,   1]])"
      ]
     },
     "execution_count": 3,
     "metadata": {},
     "output_type": "execute_result"
    }
   ],
   "source": [
    "final_matrix = atv_matrix(array,5)\n",
    "final_matrix"
   ]
  },
  {
   "cell_type": "code",
   "execution_count": 4,
   "metadata": {},
   "outputs": [
    {
     "data": {
      "text/plain": [
       "matrix([[  1,   1,   1,   1,   1],\n",
       "        [  1,   2,   4,   8,  16],\n",
       "        [  1,   3,   9,  27,  81],\n",
       "        [  1,   4,  16,  64, 256],\n",
       "        [  1,   5,  25, 125, 625]])"
      ]
     },
     "execution_count": 4,
     "metadata": {},
     "output_type": "execute_result"
    }
   ],
   "source": [
    "final_matrix = atv_matrix(array,5,True)\n",
    "final_matrix"
   ]
  },
  {
   "cell_type": "markdown",
   "metadata": {},
   "source": [
    "## 2. Problem Statement 2:Given a sequence of n values x1, x2, ..., xn and a window size k>0, the k-th moving average ofthe given sequence is defined as follows:The moving average sequence has n-k+1 elements as shown below.The moving averages with k=4 of a ten-value sequence (n=10) is shown belowi 1 2 3 4 5 6 7 8 9 10===== == == == == == == == == == ==Input 10 20 30 40 50 60 70 80 90 100 , y1 25 = (10+20+30+40)/4 , y2 35 = (20+30+40+50)/4 ,y3 45 = (30+40+50+60)/4 , y4 55 = (40+50+60+70)/4 , y5 65 = (50+60+70+80)/4,y6 75 = (60+70+80+90)/4 , y7 85 = (70+80+90+100)/4Thus, the moving average sequence has n-k+1=10-4+1=7 values.Write a function to find moving average in an array over a window:Test it over [3, 5, 7, 2, 8, 10, 11, 65, 72, 81, 99, 100, 150] and window of 3."
   ]
  },
  {
   "cell_type": "code",
   "execution_count": 5,
   "metadata": {},
   "outputs": [
    {
     "name": "stdout",
     "output_type": "stream",
     "text": [
      "y1=5.0\n",
      "y2=4.67\n",
      "y3=5.67\n",
      "y4=6.67\n",
      "y5=9.67\n",
      "y6=28.67\n",
      "y7=49.33\n",
      "y8=72.67\n",
      "y9=84.0\n",
      "y10=93.33\n",
      "y11=116.33\n"
     ]
    }
   ],
   "source": [
    "array = np.array([3, 5, 7, 2, 8, 10, 11, 65, 72, 81, 99, 100, 150])\n",
    "for i in range(len(array)-2):\n",
    "  \n",
    "    print(f\"y{i+1}={round((array[i]+array[i+1]+array[i+2])/3,2)}\")"
   ]
  },
  {
   "cell_type": "code",
   "execution_count": null,
   "metadata": {},
   "outputs": [],
   "source": []
  }
 ],
 "metadata": {
  "kernelspec": {
   "display_name": "Python 3",
   "language": "python",
   "name": "python3"
  },
  "language_info": {
   "codemirror_mode": {
    "name": "ipython",
    "version": 3
   },
   "file_extension": ".py",
   "mimetype": "text/x-python",
   "name": "python",
   "nbconvert_exporter": "python",
   "pygments_lexer": "ipython3",
   "version": "3.7.4"
  }
 },
 "nbformat": 4,
 "nbformat_minor": 2
}
