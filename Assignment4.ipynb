{
 "cells": [
  {
   "cell_type": "markdown",
   "metadata": {},
   "source": [
    "## 1.1 Write a Python Program(with class concepts) to find the area of the triangle using the below formula area = (s*(s-a)*(s-b)*(s-c)) ** 0.5 .Function to take the length of the sides of triangle from user should be defined in the parentclass and function to calculate the area should be defined in subclass."
   ]
  },
  {
   "cell_type": "code",
   "execution_count": 1,
   "metadata": {},
   "outputs": [
    {
     "name": "stdout",
     "output_type": "stream",
     "text": [
      "Enter the value of a 2\n",
      "Enter the value of b 3\n",
      "Enter the value of c 4\n",
      "Area of the Triangle = 2.9047375096555625\n"
     ]
    }
   ],
   "source": [
    "class parentclass:\n",
    "    \n",
    "    \n",
    "    def __init__(self,a,b,c):\n",
    "        self.a = a\n",
    "        self.b = b \n",
    "        self.c = c\n",
    "        \n",
    "\n",
    "class subclass(parentclass):\n",
    "    \n",
    "    def __init__(self,*args):\n",
    "        super().__init__(*args) #Inherting the variables of the parent class using super\n",
    "        \n",
    "    def area(self):\n",
    "        s = (self.a + self.b + self.c) / 2 #Calculating the value of s\n",
    "        self.area = float((s * (s - self.a) * (s - self.b) * (s - self.c))) ** 0.5   #Calculating the area\n",
    "        print(f'Area of the Triangle = {self.area}')  #Displaying the area\n",
    "        \n",
    "#Inputting the corresponding values        \n",
    "a = float(input('Enter the value of a '))\n",
    "b = float(input('Enter the value of b ')) \n",
    "c = float(input('Enter the value of c '))\n",
    "#Inputting the corresponding values        \n",
    "obj = subclass(a,b,c)\n",
    "obj.area()\n",
    "        "
   ]
  },
  {
   "cell_type": "markdown",
   "metadata": {},
   "source": [
    "## 1.2 Write a function filter_long_words() that takes a list of words and an integer n and returns the list of words that are longer than n."
   ]
  },
  {
   "cell_type": "code",
   "execution_count": 2,
   "metadata": {},
   "outputs": [],
   "source": [
    "def filter_long_words(words,n):\n",
    "    k = []\n",
    "    for i in words: #Going through words in list\n",
    "        if len(i) > n: #Checking if length of  the word is greater than integer\n",
    "            k.append(i) #Appending to the list\n",
    "    return k\n",
    "    "
   ]
  },
  {
   "cell_type": "code",
   "execution_count": 3,
   "metadata": {},
   "outputs": [
    {
     "name": "stdout",
     "output_type": "stream",
     "text": [
      "Enter the words seperated by spaceMilan Akhil ram\n",
      "Enter the word length3\n",
      "Milan Akhil "
     ]
    }
   ],
   "source": [
    "words = input('Enter the words seperated by space').split()  #Inputting the words with a space sepertion\n",
    "n = int(input('Enter the word length'))\n",
    "a = filter_long_words(words,n)\n",
    "for i in a:\n",
    "    print(i,end=' ')"
   ]
  },
  {
   "cell_type": "markdown",
   "metadata": {},
   "source": [
    "## 2.1 Write a Python program using function concept that maps list of words into a list of integers representing the lengths of the corresponding words.Hint: If a list [ ab,cde,erty] is passed on to the python function output should come as [2,3,4] Here 2,3 and 4 are the lengths of the words in the list."
   ]
  },
  {
   "cell_type": "code",
   "execution_count": 4,
   "metadata": {},
   "outputs": [],
   "source": [
    "def length_of_words(words):\n",
    "    k = []\n",
    "    for i in words:\n",
    "        k.append(len(i)) #Finding the length of words and appending it to the list\n",
    "    return k"
   ]
  },
  {
   "cell_type": "code",
   "execution_count": 5,
   "metadata": {},
   "outputs": [
    {
     "name": "stdout",
     "output_type": "stream",
     "text": [
      "Enter the words seperated by spacehy hello welcome\n"
     ]
    },
    {
     "data": {
      "text/plain": [
       "[2, 5, 7]"
      ]
     },
     "execution_count": 5,
     "metadata": {},
     "output_type": "execute_result"
    }
   ],
   "source": [
    "words = input('Enter the words seperated by space').split() #Inputting the words with a space sepertion\n",
    "length_of_words(words)"
   ]
  },
  {
   "cell_type": "markdown",
   "metadata": {},
   "source": [
    "## 2.2 Write a Python function which takes a character (i.e. a string of length 1) and returns True if it is a vowel, False otherwise."
   ]
  },
  {
   "cell_type": "code",
   "execution_count": 6,
   "metadata": {},
   "outputs": [],
   "source": [
    "def find_vowel(c):\n",
    "    vowel = ['a','e','i','o','u']\n",
    "    if c in vowel :  #Checking if the character is present in vowels\n",
    "        return True\n",
    "    else:\n",
    "        return False"
   ]
  },
  {
   "cell_type": "code",
   "execution_count": 7,
   "metadata": {},
   "outputs": [
    {
     "data": {
      "text/plain": [
       "False"
      ]
     },
     "execution_count": 7,
     "metadata": {},
     "output_type": "execute_result"
    }
   ],
   "source": [
    "find_vowel('k')"
   ]
  },
  {
   "cell_type": "code",
   "execution_count": null,
   "metadata": {},
   "outputs": [],
   "source": []
  }
 ],
 "metadata": {
  "kernelspec": {
   "display_name": "Python 3",
   "language": "python",
   "name": "python3"
  },
  "language_info": {
   "codemirror_mode": {
    "name": "ipython",
    "version": 3
   },
   "file_extension": ".py",
   "mimetype": "text/x-python",
   "name": "python",
   "nbconvert_exporter": "python",
   "pygments_lexer": "ipython3",
   "version": "3.7.4"
  }
 },
 "nbformat": 4,
 "nbformat_minor": 2
}
