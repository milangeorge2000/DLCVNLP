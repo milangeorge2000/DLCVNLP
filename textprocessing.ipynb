{
  "nbformat": 4,
  "nbformat_minor": 0,
  "metadata": {
    "colab": {
      "name": "textprocessing.ipynb",
      "provenance": [],
      "collapsed_sections": [],
      "authorship_tag": "ABX9TyMN+bWM1GTu/3FeCLbVvDMj",
      "include_colab_link": true
    },
    "kernelspec": {
      "name": "python3",
      "display_name": "Python 3"
    }
  },
  "cells": [
    {
      "cell_type": "markdown",
      "metadata": {
        "id": "view-in-github",
        "colab_type": "text"
      },
      "source": [
        "<a href=\"https://colab.research.google.com/github/milangeorge2000/DLCVNLP/blob/master/textprocessing.ipynb\" target=\"_parent\"><img src=\"https://colab.research.google.com/assets/colab-badge.svg\" alt=\"Open In Colab\"/></a>"
      ]
    },
    {
      "cell_type": "markdown",
      "metadata": {
        "id": "vdcLMzaGG8Vt"
      },
      "source": [
        "**Question 1.** Write a python program to find out the words after '@' from the below sentences with the use of regex.\n",
        "\n",
        "\"xyz@gmail.com\",\n",
        "\"abc@yahoo.com\",\n",
        "\"xyz@hotmail.com\",\n",
        "\"abc@ineuron.ai\",\n",
        "\"xyz@outlook.com\""
      ]
    },
    {
      "cell_type": "code",
      "metadata": {
        "id": "E5Sih7MDG8zM"
      },
      "source": [
        "sentance = \"xyz@gmail.com\",\"abc@yahoo.com\",\"xyz@hotmail.com\",\"abc@ineuron.ai\",\"xyz@outlook.com\""
      ],
      "execution_count": 1,
      "outputs": []
    },
    {
      "cell_type": "code",
      "metadata": {
        "id": "KP530zMvHGKB",
        "outputId": "ce66d6a2-5ef4-4c53-b593-c127f5bb1785",
        "colab": {
          "base_uri": "https://localhost:8080/",
          "height": 102
        }
      },
      "source": [
        "sentance"
      ],
      "execution_count": 2,
      "outputs": [
        {
          "output_type": "execute_result",
          "data": {
            "text/plain": [
              "('xyz@gmail.com',\n",
              " 'abc@yahoo.com',\n",
              " 'xyz@hotmail.com',\n",
              " 'abc@ineuron.ai',\n",
              " 'xyz@outlook.com')"
            ]
          },
          "metadata": {
            "tags": []
          },
          "execution_count": 2
        }
      ]
    },
    {
      "cell_type": "code",
      "metadata": {
        "id": "UclTm_RGqsag",
        "outputId": "5720cb1a-30a5-425a-83f3-684aa23c0698",
        "colab": {
          "base_uri": "https://localhost:8080/",
          "height": 102
        }
      },
      "source": [
        "import re\n",
        "for  text in sentance :\n",
        "  text= re.split(\"@\", text)\n",
        "  print(text[1])"
      ],
      "execution_count": 3,
      "outputs": [
        {
          "output_type": "stream",
          "text": [
            "gmail.com\n",
            "yahoo.com\n",
            "hotmail.com\n",
            "ineuron.ai\n",
            "outlook.com\n"
          ],
          "name": "stdout"
        }
      ]
    },
    {
      "cell_type": "markdown",
      "metadata": {
        "id": "tGoDULyLK7Jj"
      },
      "source": [
        "Question 2.** Write a python program with the use of regex to take out the word \"New\" from the following sentence.\n",
        "\n",
        "[\"New Delhi is the capital of India\"]"
      ]
    },
    {
      "cell_type": "code",
      "metadata": {
        "id": "GyHXKwmZq7Zo"
      },
      "source": [
        "sent = \"New Delhi is the capital of India\"\n",
        "sent = re.sub('New','',sent)"
      ],
      "execution_count": 4,
      "outputs": []
    },
    {
      "cell_type": "code",
      "metadata": {
        "id": "Mn3MvUCssnuu",
        "outputId": "1fa1df19-a8cf-4906-bf92-40ccac3afd82",
        "colab": {
          "base_uri": "https://localhost:8080/",
          "height": 35
        }
      },
      "source": [
        "sent"
      ],
      "execution_count": 5,
      "outputs": [
        {
          "output_type": "execute_result",
          "data": {
            "application/vnd.google.colaboratory.intrinsic+json": {
              "type": "string"
            },
            "text/plain": [
              "' Delhi is the capital of India'"
            ]
          },
          "metadata": {
            "tags": []
          },
          "execution_count": 5
        }
      ]
    },
    {
      "cell_type": "markdown",
      "metadata": {
        "id": "NjxeQjp9LLs6"
      },
      "source": [
        "Question 3.** Create one python program in which you have to lowercase the sentence first and than delete digits from the following sentence.\n",
        "\n",
        "\"In India, 184 people got affected with Corona virus and 4 are died.\""
      ]
    },
    {
      "cell_type": "code",
      "metadata": {
        "id": "j5WjsS8xsown"
      },
      "source": [
        "text = \"In India, 184 people got affected with Corona virus and 4 are died.\""
      ],
      "execution_count": 6,
      "outputs": []
    },
    {
      "cell_type": "code",
      "metadata": {
        "id": "v7aMwl9SuxdV"
      },
      "source": [
        "text = text.lower()"
      ],
      "execution_count": 7,
      "outputs": []
    },
    {
      "cell_type": "code",
      "metadata": {
        "id": "4QmDIvw2u0Aa",
        "outputId": "8e2a531a-72e2-4a95-dafc-9136edea6339",
        "colab": {
          "base_uri": "https://localhost:8080/",
          "height": 35
        }
      },
      "source": [
        "text"
      ],
      "execution_count": 8,
      "outputs": [
        {
          "output_type": "execute_result",
          "data": {
            "application/vnd.google.colaboratory.intrinsic+json": {
              "type": "string"
            },
            "text/plain": [
              "'in india, 184 people got affected with corona virus and 4 are died.'"
            ]
          },
          "metadata": {
            "tags": []
          },
          "execution_count": 8
        }
      ]
    },
    {
      "cell_type": "code",
      "metadata": {
        "id": "o-2jjOUtu06X"
      },
      "source": [
        "result = re.sub(r'\\d+', '', text)"
      ],
      "execution_count": 9,
      "outputs": []
    },
    {
      "cell_type": "code",
      "metadata": {
        "id": "0OVrrxJZvOOv",
        "outputId": "f5714e33-36d6-40f1-e0f8-2b0e53a04523",
        "colab": {
          "base_uri": "https://localhost:8080/",
          "height": 35
        }
      },
      "source": [
        "result"
      ],
      "execution_count": 10,
      "outputs": [
        {
          "output_type": "execute_result",
          "data": {
            "application/vnd.google.colaboratory.intrinsic+json": {
              "type": "string"
            },
            "text/plain": [
              "'in india,  people got affected with corona virus and  are died.'"
            ]
          },
          "metadata": {
            "tags": []
          },
          "execution_count": 10
        }
      ]
    },
    {
      "cell_type": "markdown",
      "metadata": {
        "id": "tCrLblnMOSEc"
      },
      "source": [
        "Question 4.** Do stemming, lemmatization and tokenization from the following sentence.\n",
        "\n",
        "\"I hope that, when I have built up my savings, I will be able to travel to Hawai."
      ]
    },
    {
      "cell_type": "code",
      "metadata": {
        "id": "nnpuPW4bAKyo",
        "outputId": "e73425e8-f121-4b71-dc4c-d789edafb4fe",
        "colab": {
          "base_uri": "https://localhost:8080/",
          "height": 68
        }
      },
      "source": [
        "import nltk\n",
        "nltk.download('punkt')"
      ],
      "execution_count": 11,
      "outputs": [
        {
          "output_type": "stream",
          "text": [
            "[nltk_data] Downloading package punkt to /root/nltk_data...\n",
            "[nltk_data]   Package punkt is already up-to-date!\n"
          ],
          "name": "stdout"
        },
        {
          "output_type": "execute_result",
          "data": {
            "text/plain": [
              "True"
            ]
          },
          "metadata": {
            "tags": []
          },
          "execution_count": 11
        }
      ]
    },
    {
      "cell_type": "markdown",
      "metadata": {
        "id": "mWdY_RwEB0dd"
      },
      "source": [
        "##  lemmatization\n"
      ]
    },
    {
      "cell_type": "code",
      "metadata": {
        "id": "KDxmtaBuw6-o",
        "outputId": "11e6129f-3a74-40ec-aaef-6054451ce33d",
        "colab": {
          "base_uri": "https://localhost:8080/",
          "height": 408
        }
      },
      "source": [
        "text = \"I hope that, when I have built up my savings, I will be able to travel to Hawai.\"\n",
        "from nltk.stem import wordnet \n",
        "from nltk.tokenize import word_tokenize \n",
        "lemma = wordnet.WordNetLemmatizer()\n",
        "nltk.download('wordnet')\n",
        "# lemmatize string \n",
        "def lemmatize_word(text): \n",
        "    word_tokens = word_tokenize(text) \n",
        "    # provide context i.e. part-of-speech(pos)\n",
        "    lemmas = [lemma.lemmatize(word, pos ='v') for word in word_tokens] \n",
        "    return lemmas \n",
        "  \n",
        "\n",
        "lemmatize_word(text)"
      ],
      "execution_count": 12,
      "outputs": [
        {
          "output_type": "stream",
          "text": [
            "[nltk_data] Downloading package wordnet to /root/nltk_data...\n",
            "[nltk_data]   Package wordnet is already up-to-date!\n"
          ],
          "name": "stdout"
        },
        {
          "output_type": "execute_result",
          "data": {
            "text/plain": [
              "['I',\n",
              " 'hope',\n",
              " 'that',\n",
              " ',',\n",
              " 'when',\n",
              " 'I',\n",
              " 'have',\n",
              " 'build',\n",
              " 'up',\n",
              " 'my',\n",
              " 'save',\n",
              " ',',\n",
              " 'I',\n",
              " 'will',\n",
              " 'be',\n",
              " 'able',\n",
              " 'to',\n",
              " 'travel',\n",
              " 'to',\n",
              " 'Hawai',\n",
              " '.']"
            ]
          },
          "metadata": {
            "tags": []
          },
          "execution_count": 12
        }
      ]
    },
    {
      "cell_type": "markdown",
      "metadata": {
        "id": "9jHiHIXmejEk"
      },
      "source": [
        "Stemming"
      ]
    },
    {
      "cell_type": "code",
      "metadata": {
        "id": "h7RzZvYrAeGr",
        "outputId": "3365d8ec-5c74-41a7-900c-20631d8949c8",
        "colab": {
          "base_uri": "https://localhost:8080/",
          "height": 374
        }
      },
      "source": [
        "#importing nltk's porter stemmer \n",
        "from nltk.stem.porter import PorterStemmer \n",
        "from nltk.tokenize import word_tokenize \n",
        "stem1 = PorterStemmer() \n",
        "  \n",
        "# stem words in the list of tokenised words \n",
        "def s_words(text): \n",
        "    word_tokens = word_tokenize(text) \n",
        "    stems = [stem1.stem(word) for word in word_tokens] \n",
        "    return stems \n",
        "  \n",
        "text = \"I hope that, when I have built up my savings, I will be able to travel to Hawai.\"\n",
        "s_words(text)"
      ],
      "execution_count": 13,
      "outputs": [
        {
          "output_type": "execute_result",
          "data": {
            "text/plain": [
              "['I',\n",
              " 'hope',\n",
              " 'that',\n",
              " ',',\n",
              " 'when',\n",
              " 'I',\n",
              " 'have',\n",
              " 'built',\n",
              " 'up',\n",
              " 'my',\n",
              " 'save',\n",
              " ',',\n",
              " 'I',\n",
              " 'will',\n",
              " 'be',\n",
              " 'abl',\n",
              " 'to',\n",
              " 'travel',\n",
              " 'to',\n",
              " 'hawai',\n",
              " '.']"
            ]
          },
          "metadata": {
            "tags": []
          },
          "execution_count": 13
        }
      ]
    },
    {
      "cell_type": "markdown",
      "metadata": {
        "id": "YGr2uM_7eqks"
      },
      "source": [
        "Tokenization"
      ]
    },
    {
      "cell_type": "code",
      "metadata": {
        "id": "H3AceqgSAIyL",
        "outputId": "254d0fdf-0600-4ecb-c4a2-0a8092fe65c6",
        "colab": {
          "base_uri": "https://localhost:8080/",
          "height": 54
        }
      },
      "source": [
        "import nltk\n",
        "text = \"I hope that, when I have built up my savings, I will be able to travel to Hawai.\"\n",
        "nltk_tokens = nltk.word_tokenize(text)\n",
        "print (nltk_tokens)"
      ],
      "execution_count": 14,
      "outputs": [
        {
          "output_type": "stream",
          "text": [
            "['I', 'hope', 'that', ',', 'when', 'I', 'have', 'built', 'up', 'my', 'savings', ',', 'I', 'will', 'be', 'able', 'to', 'travel', 'to', 'Hawai', '.']\n"
          ],
          "name": "stdout"
        }
      ]
    },
    {
      "cell_type": "markdown",
      "metadata": {
        "id": "aBpIfuudOZbc"
      },
      "source": [
        "Question 5.** Create one python program from the following sentence.\n",
        "\n",
        "\"I love NLP, not you\"\n",
        "\n",
        "output : ['I', 'l', 'N', 'n', 'y']"
      ]
    },
    {
      "cell_type": "code",
      "metadata": {
        "id": "EgUtW1IbHI2m",
        "outputId": "462c5e34-7df8-4992-cf53-b4179b6926eb",
        "colab": {
          "base_uri": "https://localhost:8080/",
          "height": 34
        }
      },
      "source": [
        "z = \"I love NLP, not you\"\n",
        "res = re.sub(r'[^\\w\\s]', '', z) \n",
        "res = res.split()\n",
        "output = []\n",
        "for i in res:\n",
        "  output.append(i[0])\n",
        "print(output)"
      ],
      "execution_count": 15,
      "outputs": [
        {
          "output_type": "stream",
          "text": [
            "['I', 'l', 'N', 'n', 'y']\n"
          ],
          "name": "stdout"
        }
      ]
    },
    {
      "cell_type": "code",
      "metadata": {
        "id": "0pHduF-bglwi"
      },
      "source": [
        ""
      ],
      "execution_count": 15,
      "outputs": []
    }
  ]
}